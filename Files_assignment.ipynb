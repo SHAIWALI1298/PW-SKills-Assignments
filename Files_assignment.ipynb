{
 "cells": [
  {
   "cell_type": "markdown",
   "id": "e1d6903b-ad47-4007-aee4-87cc650c962b",
   "metadata": {},
   "source": [
    "Q1. Which function is used to open a file? What are the different modes of opening a file? Explain each mode\n",
    "of file opening.\n",
    "\n",
    "ans. The open() function is used for opening a file. The different modes of opening the file are -\n",
    "\"r\" = read mode, opens file for reading and shows error if file not exist.\n",
    "\"w\" = write mode, opens file for writing and deletes the past material if opened the existed file and creates the file if file not exist.\n",
    "\"a\" = append mode, opens the file for writing and appending new things, if file not exist it creates the file for writing.\n",
    "\"x\" = create mode, it creates the file and returns error if same name file existed\n",
    "\"t\" = text mode, it is the default value\n",
    "\"b\" = binary mode, ususally for images"
   ]
  },
  {
   "cell_type": "markdown",
   "id": "5c8e2cde-ad95-4716-8b6d-336dc8ca8c29",
   "metadata": {},
   "source": [
    "Q2. Why close() function is used? Why is it important to close a file?\n",
    "\n",
    "ans. The close() function is used to close the open file, and its important to close the file since you can see changes in the open file."
   ]
  },
  {
   "cell_type": "code",
   "execution_count": 1,
   "id": "1d4b2ea0-ca2c-4b3b-b710-d5b397c90096",
   "metadata": {},
   "outputs": [],
   "source": [
    "# Q3. Write a python program to create a text file. Write ‘I want to become a Data Scientist’ in that file. Then close the file. Open this file and \n",
    "# read the content of the file.\n",
    "\n",
    "f = open('test.txt', \"w\")\n",
    "f.write(\"I want to become a Data Scientist\")\n",
    "f.close()"
   ]
  },
  {
   "cell_type": "markdown",
   "id": "1ed95989-c297-42b0-8cd2-d12890eb4a82",
   "metadata": {},
   "source": [
    "Q4. Explain the following with python code: read(), readline() and readlines().\n",
    "\n",
    "ans. read() - to read the file\n",
    "    readline() - it returns one line from the file, also you can specify the bytes from the line to return by using the 'size' parameter.\n",
    "    readlines() - it returns every line of a file as each element of the list also you can specify the number of lines return using 'hint' parameter and is -1 as default value."
   ]
  },
  {
   "cell_type": "code",
   "execution_count": 24,
   "id": "51a92bd1-4f5d-40a9-8e65-99ee312cf4b3",
   "metadata": {},
   "outputs": [
    {
     "data": {
      "text/plain": [
       "'I want to become a Data ScientistHey I am adding new lineHey I am adding new lineHey I am adding new lineI am using this fileto see commandHey I am adding new lineI am using this fileto see commandHey I am adding new lineI am using this fileto see commandHey I am adding new lineI am using this fileto see commandHey I am adding new line I am using this file to see command Hey I am adding new line \\nI am using this file to see command Hey I am adding new line n/I am using this file to see command Hey I am adding new line \\nI am using this file to see command Hey I am adding new line\\n I am using this file to see command Hey I am adding new lineI am using this file to see command '"
      ]
     },
     "execution_count": 24,
     "metadata": {},
     "output_type": "execute_result"
    }
   ],
   "source": [
    "# read()\n",
    "f = open(\"test.txt\", \"a\")\n",
    "f.write(\"Hey I am adding new line\")\n",
    "f.write(\"I am using this file \")\n",
    "f.write(\"to see command \")\n",
    "f.close()\n",
    "data = open(\"test.txt\", \"r\")\n",
    "data.read()"
   ]
  },
  {
   "cell_type": "code",
   "execution_count": 33,
   "id": "02dda528-679a-4fa6-9e8a-2a73f6390246",
   "metadata": {
    "scrolled": true
   },
   "outputs": [
    {
     "data": {
      "text/plain": [
       "'this is first line \\n'"
      ]
     },
     "execution_count": 33,
     "metadata": {},
     "output_type": "execute_result"
    }
   ],
   "source": [
    "# readline\n",
    "f1 = open(\"test1.txt\",\"w\")\n",
    "f1.write(\"this is first line \\n\")\n",
    "f1.write(\"this is my second line\")\n",
    "f1.close()\n",
    "d = open(\"test1.txt\",\"r\")\n",
    "d.readline()"
   ]
  },
  {
   "cell_type": "code",
   "execution_count": 37,
   "id": "217b3529-a4bd-4404-b0fc-ea12d2036080",
   "metadata": {},
   "outputs": [
    {
     "data": {
      "text/plain": [
       "['this is first line \\n', 'this is my second line']"
      ]
     },
     "execution_count": 37,
     "metadata": {},
     "output_type": "execute_result"
    }
   ],
   "source": [
    "# readlines\n",
    "d.seek(0)\n",
    "d.readlines()"
   ]
  },
  {
   "cell_type": "markdown",
   "id": "23df197f-259a-4169-baaf-d02f0604a207",
   "metadata": {},
   "source": [
    "Q5. Explain why with statement is used with open(). What is the advantage of using with statement and open() together?\n",
    "\n",
    "ans. 'with' statement is used to open the file and close the file after execution. The advantage is that it automatically closes the file after the operation, and there is no need of using close() again after using other operations."
   ]
  },
  {
   "cell_type": "markdown",
   "id": "dead5588-6b03-4a90-9e7b-d98e7f9bbf70",
   "metadata": {},
   "source": [
    "Q6. Explain the write() and writelines() functions. Give a suitable example.\n",
    "\n",
    "ans. The write function is used to write the material in the file created."
   ]
  },
  {
   "cell_type": "code",
   "execution_count": 44,
   "id": "74d016c1-bca1-4d51-86de-7523e598b30e",
   "metadata": {},
   "outputs": [
    {
     "data": {
      "text/plain": [
       "<function TextIOWrapper.close()>"
      ]
     },
     "execution_count": 44,
     "metadata": {},
     "output_type": "execute_result"
    }
   ],
   "source": [
    "# write\n",
    "\n",
    "f2 = open(\"test1.txt\",\"w\")\n",
    "f2.write(\"this is my third line\")\n",
    "f2.close"
   ]
  },
  {
   "cell_type": "code",
   "execution_count": 46,
   "id": "5059f8d4-5c6b-4223-b64a-d1c2d639e206",
   "metadata": {},
   "outputs": [],
   "source": [
    "#writelines\n",
    "f2.writelines([\"hey\", \"I am using\", \"this file\"])\n",
    "with open (\"test1.txt\",\"r\") as f3:\n",
    "    f3.read()"
   ]
  }
 ],
 "metadata": {
  "kernelspec": {
   "display_name": "Python 3 (ipykernel)",
   "language": "python",
   "name": "python3"
  },
  "language_info": {
   "codemirror_mode": {
    "name": "ipython",
    "version": 3
   },
   "file_extension": ".py",
   "mimetype": "text/x-python",
   "name": "python",
   "nbconvert_exporter": "python",
   "pygments_lexer": "ipython3",
   "version": "3.11.7"
  }
 },
 "nbformat": 4,
 "nbformat_minor": 5
}
