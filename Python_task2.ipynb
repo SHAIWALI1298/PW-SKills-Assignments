{
 "cells": [
  {
   "cell_type": "code",
   "execution_count": 80,
   "id": "f6be19fd-9f68-4949-8e1f-00e6c90eb5fb",
   "metadata": {},
   "outputs": [],
   "source": [
    "# Q1. You are writing code for a company. The requirement of the company is that you create a python function that will check whether the password entered \n",
    "# by the user is correct or not. The function should take the password as input and return the string “Valid Password” if the entered password follows the\n",
    "# below-given password guidelines else it should return “Invalid Password”.\n",
    "\n",
    "# Note: 1. The Password should contain at least two uppercase letters and at least two lowercase letters.\n",
    "#       2. The Password should contain at least a number and three special characters.\n",
    "#       3. The length of the password should be 10 characters long.\n",
    "\n",
    "def set_password(x):\n",
    "    x = input()\n",
    "    lst = list(x)\n",
    "    count1 = 0\n",
    "    count2 = 0\n",
    "    count3 = 0\n",
    "    count4 = 0\n",
    "    num_lst = [1,2,3,4,5,6,7,8,9,0]\n",
    "    import string\n",
    "    if len(lst)==10:\n",
    "        for i in lst:\n",
    "            if i.isupper():\n",
    "                count1+=1\n",
    "            if i.islower():\n",
    "                count2+=1\n",
    "            for j in num_lst:\n",
    "                if i==str(j):\n",
    "                    count3+=1\n",
    "            if i in string.punctuation:\n",
    "                count4+=1\n",
    "        if count1<2:\n",
    "            print('Invalid Password')\n",
    "        elif count2<2:\n",
    "            print('Invalid Password')\n",
    "        elif count3<1:\n",
    "            print('Invalid Password')\n",
    "        elif count4!=3:\n",
    "            print('Invalid Password')\n",
    "        else:\n",
    "            print('Valid Password')\n",
    "    else:\n",
    "        print('Invalid Password')\n",
    "  "
   ]
  },
  {
   "cell_type": "code",
   "execution_count": 81,
   "id": "f3106cf8-2720-40d3-ba89-a1fc318dfed2",
   "metadata": {},
   "outputs": [
    {
     "name": "stdin",
     "output_type": "stream",
     "text": [
      " pAsWr@#$13\n"
     ]
    },
    {
     "name": "stdout",
     "output_type": "stream",
     "text": [
      "Valid Password\n"
     ]
    }
   ],
   "source": [
    "# Checking the function\n",
    "x = 'pAsWr@#$13'\n",
    "set_password(x)\n"
   ]
  },
  {
   "cell_type": "markdown",
   "id": "930a4d01-b440-42e5-8d32-9b7cc993b4d6",
   "metadata": {},
   "source": [
    "# Q2. Solve the below-given questions using at least one of the following:\n",
    "#    1. Lambda function\n",
    "#    2. Filter function\n",
    "#    3. Map function\n",
    "#    4. List Comprehension\n"
   ]
  },
  {
   "cell_type": "code",
   "execution_count": 168,
   "id": "7fe711fb-8a3d-4a77-a04d-1ed830472af0",
   "metadata": {},
   "outputs": [
    {
     "name": "stdin",
     "output_type": "stream",
     "text": [
      " keep\n"
     ]
    },
    {
     "name": "stdout",
     "output_type": "stream",
     "text": [
      "String should start with letter s\n"
     ]
    }
   ],
   "source": [
    "# Check if the string starts with a particular letter.\n",
    "\n",
    "x = input() \n",
    "Str = lambda x: print(f'{x} satisfy the condition')if x[0]=='s' or x[0]=='S'else print('String should start with letter s')\n",
    "Str(x)"
   ]
  },
  {
   "cell_type": "code",
   "execution_count": 283,
   "id": "cf358475-42c3-4ac8-96ea-6ed2340d4b4e",
   "metadata": {},
   "outputs": [
    {
     "name": "stdin",
     "output_type": "stream",
     "text": [
      " 564\n"
     ]
    },
    {
     "name": "stdout",
     "output_type": "stream",
     "text": [
      "564 is numeric\n"
     ]
    }
   ],
   "source": [
    "# Check if the string is numeric.\n",
    "\n",
    "x = input()\n",
    "a = lambda x: print(f'{x} is numeric') if x.isnumeric() else print('String is not numeric')\n",
    "a(x)"
   ]
  },
  {
   "cell_type": "code",
   "execution_count": 212,
   "id": "df4aa707-086b-4643-b76e-610472761bb2",
   "metadata": {},
   "outputs": [
    {
     "data": {
      "text/plain": [
       "[('orange', 80), ('mango', 99), ('grapes', 1000)]"
      ]
     },
     "execution_count": 212,
     "metadata": {},
     "output_type": "execute_result"
    }
   ],
   "source": [
    "# Sort a list of tuples having fruit names and their quantity. [(\"mango\",99),(\"orange\",80), (\"grapes\", 1000)]\n",
    "\n",
    "lst = [(\"mango\",99),(\"orange\",80), (\"grapes\", 1000)]\n",
    "x = lambda i: i[1]\n",
    "lst= lst.sort(key=x)\n",
    "lst"
   ]
  },
  {
   "cell_type": "code",
   "execution_count": 214,
   "id": "49c3fd54-e430-476c-915f-84d840a34ddf",
   "metadata": {},
   "outputs": [
    {
     "name": "stdout",
     "output_type": "stream",
     "text": [
      "[1, 4, 9, 16, 25, 36, 49, 64, 81, 100]\n"
     ]
    }
   ],
   "source": [
    "# Find the squares of numbers from 1 to 10.\n",
    "\n",
    "y = list(map(lambda a: a**2,list(range(1,11))))\n",
    "print(y)"
   ]
  },
  {
   "cell_type": "code",
   "execution_count": 217,
   "id": "d154635f-df38-4796-a163-6efb3f5eb863",
   "metadata": {},
   "outputs": [
    {
     "name": "stdout",
     "output_type": "stream",
     "text": [
      "[1.0, 1.26, 1.442, 1.587, 1.71, 1.817, 1.913, 2.0, 2.08, 2.154]\n"
     ]
    }
   ],
   "source": [
    "# Find the cube root of numbers from 1 to 10.\n",
    "\n",
    "y = list(map(lambda a: round(a**(1/3),3), list(range(1,11))))\n",
    "print(y)"
   ]
  },
  {
   "cell_type": "code",
   "execution_count": 226,
   "id": "18511d0a-fa2f-40d3-a39b-f909957b4609",
   "metadata": {},
   "outputs": [
    {
     "name": "stdin",
     "output_type": "stream",
     "text": [
      " 6\n"
     ]
    },
    {
     "name": "stdout",
     "output_type": "stream",
     "text": [
      "number is even\n"
     ]
    }
   ],
   "source": [
    "# Check if a given number is even.\n",
    "\n",
    "x = int(input())\n",
    "y = lambda x: print('number is even') if x%2==0 else print('please enter even number')\n",
    "y(x)"
   ]
  },
  {
   "cell_type": "code",
   "execution_count": 236,
   "id": "776fd7d0-86d7-4ba7-a37b-af1207c2df7e",
   "metadata": {},
   "outputs": [
    {
     "data": {
      "text/plain": [
       "[1, 3, 5, 7, 9]"
      ]
     },
     "execution_count": 236,
     "metadata": {},
     "output_type": "execute_result"
    }
   ],
   "source": [
    "# Filter odd numbers from the given list.\n",
    " \n",
    "l =  [1,2,3,4,5,6,7,8,9,10]\n",
    "o_l = list(filter(lambda a:a%2!=0,l))\n",
    "o_l"
   ]
  },
  {
   "cell_type": "code",
   "execution_count": 238,
   "id": "4f24844e-ae33-44f2-b9a8-c1ab0b7c4cf4",
   "metadata": {},
   "outputs": [
    {
     "name": "stdout",
     "output_type": "stream",
     "text": [
      "[1, 2, 3, 4, 5, 6]\n",
      "[-1, -2, -3, -4, -5]\n"
     ]
    }
   ],
   "source": [
    "# Sort a list of integers into positive and negative integers lists.   \n",
    "\n",
    "l =  [1,2,3,4,5,6,-1,-2,-3,-4,-5,0]\n",
    "p_l = list(filter(lambda a: a>0, l))\n",
    "print(p_l)\n",
    "n_l = list(filter(lambda a:a<0, l))\n",
    "print(n_l)"
   ]
  }
 ],
 "metadata": {
  "kernelspec": {
   "display_name": "Python 3 (ipykernel)",
   "language": "python",
   "name": "python3"
  },
  "language_info": {
   "codemirror_mode": {
    "name": "ipython",
    "version": 3
   },
   "file_extension": ".py",
   "mimetype": "text/x-python",
   "name": "python",
   "nbconvert_exporter": "python",
   "pygments_lexer": "ipython3",
   "version": "3.11.7"
  }
 },
 "nbformat": 4,
 "nbformat_minor": 5
}
