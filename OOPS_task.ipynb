{
 "cells": [
  {
   "cell_type": "code",
   "execution_count": 9,
   "id": "5657708d-2923-4b6e-9539-13f8bbd4dd2c",
   "metadata": {},
   "outputs": [],
   "source": [
    "# Q1, Create a vehicle class with an init method having instance variables as name_of_vehicle, max_speed and average_of_vehicle.\n",
    "\n",
    "class vehicle:\n",
    "    def __init__(self,  name, max_speed, average):\n",
    "        self.name = name\n",
    "        self.max_speed = max_speed\n",
    "        self.average = average\n",
    "\n",
    "    def return_vehicle_details(self):\n",
    "        return self.name, self.max_speed, self.average"
   ]
  },
  {
   "cell_type": "code",
   "execution_count": 152,
   "id": "a0a8e182-1ee8-4b9a-9e52-a6e7f7a61028",
   "metadata": {},
   "outputs": [],
   "source": [
    "# Q2. Create a child class car from the vehicle class created in Que 1, which will inherit the vehicle class. Create a method named seating_capacity which \n",
    "# takes capacity as an argument and returns the name of the vehicle and its seating capacity.\n",
    "\n",
    "class car(vehicle):\n",
    "\n",
    "    def seating_capacity(self, capacity):\n",
    "        self.capacity = capacity\n",
    "        \n",
    "    def return_name_cap(self):\n",
    "        return self.name, self.capacity"
   ]
  },
  {
   "cell_type": "code",
   "execution_count": 153,
   "id": "b9f4494f-1dc7-4e3b-997c-1221ccb4872b",
   "metadata": {},
   "outputs": [],
   "source": [
    "p = vehicle('toyota', 236, 200)"
   ]
  },
  {
   "cell_type": "code",
   "execution_count": 154,
   "id": "56e3d935-b0d8-4daa-b674-c3c2613245d9",
   "metadata": {},
   "outputs": [],
   "source": [
    "c.seating_capacity(7)"
   ]
  },
  {
   "cell_type": "code",
   "execution_count": 155,
   "id": "12da942f-daf8-47d8-8a0f-c6e60f521c0d",
   "metadata": {},
   "outputs": [
    {
     "data": {
      "text/plain": [
       "('toyota', 7)"
      ]
     },
     "execution_count": 155,
     "metadata": {},
     "output_type": "execute_result"
    }
   ],
   "source": [
    "c.return_name_cap()"
   ]
  },
  {
   "cell_type": "code",
   "execution_count": 80,
   "id": "f9ec755c-d978-4485-af02-c4bc73ec6ce0",
   "metadata": {},
   "outputs": [],
   "source": [
    "class car(vehicle):\n",
    "    def seating_capacity(self, capacity):\n",
    "        self.capacity = capacity\n",
    "        return self.name, self.capacity"
   ]
  },
  {
   "cell_type": "code",
   "execution_count": 156,
   "id": "e55f8ebb-bd72-4d51-9486-2622eb405bd9",
   "metadata": {},
   "outputs": [],
   "source": [
    "c.seating_capacity(6)"
   ]
  },
  {
   "cell_type": "markdown",
   "id": "f486ce62-44fb-4a47-9532-d0b0fee3d2a0",
   "metadata": {},
   "source": [
    "Q3. What is multiple inheritance? Write a python code to demonstrate multiple inheritance.\n",
    "\n",
    "ans. When a class inherit the property of more than one independent classes are called multiple inheritance. "
   ]
  },
  {
   "cell_type": "code",
   "execution_count": 146,
   "id": "ad191dfe-bc01-438f-9ab9-6b0cdd285cd6",
   "metadata": {},
   "outputs": [],
   "source": [
    "# Example of multiple inheritance\n",
    "\n",
    "class outdoor_games:\n",
    "    def __init__(self, name_o, number_of_players_o):\n",
    "        self.name_o = name_o\n",
    "        self.number_of_players_o = number_of_players_o\n",
    "    def return_game_details(self):\n",
    "        return self.name_o, self.number_of_players_o\n",
    "\n",
    "\n",
    "class indoor_games:\n",
    "    def __init__(self, name_i, number_of_players_i):\n",
    "        self.name_i = name_i\n",
    "        self.number_of_players_i = number_of_players_i\n",
    "    def return_game_details(self):\n",
    "        return self.name_i, self.number_of_players_i\n",
    "\n",
    "\n",
    "class games(outdoor_games,indoor_games):\n",
    "    def __init__(self, name_o, number_of_players_o, name_i, number_of_players_i):\n",
    "        self.name_o = name_o\n",
    "        self.number_of_players_o = number_of_players_o\n",
    "        self.name_i = name_i\n",
    "        self.number_of_players_i = number_of_players_i\n",
    "        \n",
    "    def return_details(self):    \n",
    "        return self.name_o, self.number_of_players_o, self.name_i, self.number_of_players_i"
   ]
  },
  {
   "cell_type": "code",
   "execution_count": 150,
   "id": "0ee933a5-f35c-4884-a196-7438b9046799",
   "metadata": {},
   "outputs": [],
   "source": [
    "g = games('cricket', 11, 'chess', 2)"
   ]
  },
  {
   "cell_type": "code",
   "execution_count": 151,
   "id": "50c8e60b-b5df-4f3a-ac69-385960c23215",
   "metadata": {},
   "outputs": [
    {
     "data": {
      "text/plain": [
       "('cricket', 11, 'chess', 2)"
      ]
     },
     "execution_count": 151,
     "metadata": {},
     "output_type": "execute_result"
    }
   ],
   "source": [
    "g.return_details()"
   ]
  },
  {
   "cell_type": "markdown",
   "id": "5893b766-8965-47fc-b163-280078bd913f",
   "metadata": {},
   "source": [
    "Q4. What are getter and setter in python? Create a class and create a getter and a setter method in this class.\n",
    "\n",
    "ans. They are used to ensure data encapsulatipon to validate the logic and to restrict the direct access of the fields which are private in python."
   ]
  },
  {
   "cell_type": "code",
   "execution_count": 173,
   "id": "0ab3bb21-2aa6-4fb0-9ed7-d7852beea15d",
   "metadata": {},
   "outputs": [
    {
     "name": "stdout",
     "output_type": "stream",
     "text": [
      "(450, 'A2', 81)\n",
      "450\n",
      "A1\n"
     ]
    }
   ],
   "source": [
    "# Example\n",
    "class result:\n",
    "    def __init__(self, marks, grade, percentage):\n",
    "        self._marks = marks\n",
    "        self._grade = grade\n",
    "        self._percentage = percentage\n",
    "    def report_card(self):\n",
    "        return self._marks, self._grade, self._percentage\n",
    "\n",
    "    #function for getter method\n",
    "    def get_marks(self):\n",
    "        return self._marks\n",
    "    #function for setter method\n",
    "    def set_grade(self,x):\n",
    "        self._grade = x\n",
    "\n",
    "\n",
    "ram = result(450, 'A2', 81)\n",
    "print(ram.report_card())\n",
    "\n",
    "# using getter method\n",
    "print(ram.get_marks())\n",
    "\n",
    "# using setter method\n",
    "ram.set_grade('A1') # grade is set to 'A1'\n",
    "print(ram._grade)"
   ]
  },
  {
   "cell_type": "markdown",
   "id": "4cf3f351-4b34-4252-a43c-53c0028e8e07",
   "metadata": {},
   "source": [
    "Q5.What is method overriding in python? Write a python code to demonstrate method overriding.\n",
    "\n",
    "ans. Method overiding allows the child class to provide the specific implementation of the method that is already provided by the parent class. The overriding is seen when the child class uses same name, same parameter or same return type in a method which is already there as a method in parent class, then it is said that the child class or sub class have override the method of parent or super class.\n",
    "Now the object decide which method needs to be invoked. If the object of parent class is used to invoke the method then that version of the parent class is executed, and if the object of child class is used to invoke the same method then the version of child class will get executed. Thus it is based on the object as a reference not the variable used to determine which version of the overriden method will be used."
   ]
  },
  {
   "cell_type": "code",
   "execution_count": 185,
   "id": "64097a7f-d971-4b16-9ac0-b226faba74f1",
   "metadata": {},
   "outputs": [
    {
     "name": "stdout",
     "output_type": "stream",
     "text": [
      "Eat flesh or plant\n",
      "Eat flesh\n"
     ]
    }
   ],
   "source": [
    "# Example of method overriding\n",
    "class animal:\n",
    "    def __init__ (self, food):\n",
    "        self.food = food\n",
    "    def show(self):\n",
    "        print('Eat flesh or plant')\n",
    "\n",
    "class carnivore(animal):\n",
    "    def __init__(self, food):\n",
    "        self.food = food\n",
    "    def show(self):\n",
    "        print('Eat flesh')\n",
    "\n",
    "\n",
    "obj_p = animal('plant or flesh')\n",
    "obj_c = carnivore('flesh')\n",
    "\n",
    "obj_p.show()\n",
    "obj_c.show() # overriden with same method name and argument"
   ]
  }
 ],
 "metadata": {
  "kernelspec": {
   "display_name": "Python 3 (ipykernel)",
   "language": "python",
   "name": "python3"
  },
  "language_info": {
   "codemirror_mode": {
    "name": "ipython",
    "version": 3
   },
   "file_extension": ".py",
   "mimetype": "text/x-python",
   "name": "python",
   "nbconvert_exporter": "python",
   "pygments_lexer": "ipython3",
   "version": "3.11.7"
  }
 },
 "nbformat": 4,
 "nbformat_minor": 5
}
