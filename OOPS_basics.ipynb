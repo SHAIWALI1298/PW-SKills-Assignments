{
 "cells": [
  {
   "cell_type": "markdown",
   "id": "5546b917-855c-40ab-a4fc-b9a22246b65a",
   "metadata": {},
   "source": [
    "Q1. Explain Class and Object with respect to Object-Oriented Programming. Give a suitable example.\n",
    "\n",
    "ans. The class is the bluprint for creating an object in python or we can say it creates objects based on certain rules or codes of the language. The object covers everything from methods to properties in the python or we can say that it is the instance of the class. \n"
   ]
  },
  {
   "cell_type": "code",
   "execution_count": 1,
   "id": "bf688f79-1d36-4cd5-9988-166898db9ead",
   "metadata": {},
   "outputs": [],
   "source": [
    "class four_wheeler():\n",
    "    def car(self):\n",
    "        pass\n",
    "\n",
    "car1 = four_wheeler()\n",
    "# in this the class name as four_wheeler is assigned to the object car1."
   ]
  },
  {
   "cell_type": "markdown",
   "id": "5bebd687-b6e1-4f9e-a034-5edd56a7b226",
   "metadata": {},
   "source": [
    "Q2. Name the four pillars of OOPs.\n",
    "\n",
    "ans. The four pillars of OOPS are Encapsulation, Inheritance, polymorphism, and Abstraction."
   ]
  },
  {
   "cell_type": "markdown",
   "id": "d2212e24-86e7-481c-aa9e-40db0312ba4a",
   "metadata": {},
   "source": [
    "Q3. Explain why the __init__() function is used. Give a suitable example.\n",
    "\n",
    "ans. Every classes have the built in function called _init_(). This is used in assigining values or other operations to the object during initiation in python classes, it is called the constructor function. This is automatically called before initializing the attributes or properties of the object."
   ]
  },
  {
   "cell_type": "code",
   "execution_count": 17,
   "id": "f8f8be77-1e5c-4e06-b0bf-2a8ee45398a1",
   "metadata": {},
   "outputs": [
    {
     "data": {
      "text/plain": [
       "('wagnour', 236)"
      ]
     },
     "execution_count": 17,
     "metadata": {},
     "output_type": "execute_result"
    }
   ],
   "source": [
    "# Ex of _init_()\n",
    "\n",
    "class four_Wheeler:\n",
    "    def __init__(self,car_name,model_no):\n",
    "       self.car_name = car_name\n",
    "       self.model_no = model_no\n",
    "        \n",
    "    def return_car_details(self):\n",
    "        return self.car_name, self.model_no\n",
    "\n",
    "car_1 = four_Wheeler('wagnour',236)\n",
    "car_1.return_car_details()"
   ]
  },
  {
   "cell_type": "markdown",
   "id": "34fede45-09d6-4b15-b793-a4508c8a682d",
   "metadata": {},
   "source": [
    "Q4. Why self is used in OOPs?\n",
    "\n",
    "ans. It is the first parameter of the function in the class and is used as the reference pointer in python which further used with '.' notation for assigning the attributes with the variable names. Thus it is used to access variables from the class. Also, it is not necessary to name it as self, any name can be used in place of this."
   ]
  },
  {
   "cell_type": "markdown",
   "id": "9de901a1-34bf-4581-bda0-34aff2808eb7",
   "metadata": {},
   "source": [
    "Q5. What is inheritance? Give an example for each type of inheritance.\n",
    "\n",
    "ans. To derive the property from another class inheritance method is used, in which there is parent class which is the base class and child class which is being derived from the base class."
   ]
  },
  {
   "cell_type": "code",
   "execution_count": 25,
   "id": "f90ee47d-98ce-43db-9ce9-17ffe4dfd673",
   "metadata": {},
   "outputs": [],
   "source": [
    "# Example of inheritance\n",
    "# Parent class\n",
    "class cllg_reg:\n",
    "    def __init__(self,sname,sage,roll_no):\n",
    "        self.sname = sname\n",
    "        self.sage = sage\n",
    "        self.roll_no = roll_no\n",
    "    def print_details(self):\n",
    "        print(self.sname,self.sage,self.roll_no)\n",
    "\n"
   ]
  },
  {
   "cell_type": "code",
   "execution_count": 26,
   "id": "95ad3c42-577e-4984-ac14-431349aa8614",
   "metadata": {},
   "outputs": [
    {
     "name": "stdout",
     "output_type": "stream",
     "text": [
      "rohan 21 1223\n"
     ]
    }
   ],
   "source": [
    "# using the parent class\n",
    "Rohan = cllg_reg('rohan', 21, 1223)\n",
    "Rohan.print_details()"
   ]
  },
  {
   "cell_type": "code",
   "execution_count": 27,
   "id": "ed8520ad-99ba-42f1-bedd-311aaf31ed9e",
   "metadata": {},
   "outputs": [],
   "source": [
    "# Example of class\n",
    "class semester_reg(cllg_reg):\n",
    "    pass"
   ]
  },
  {
   "cell_type": "code",
   "execution_count": 28,
   "id": "cbfe0ad5-bb61-4d8e-8f1c-961fb0c772b7",
   "metadata": {},
   "outputs": [
    {
     "name": "stdout",
     "output_type": "stream",
     "text": [
      "Shreya 23 1228\n"
     ]
    }
   ],
   "source": [
    "# Using child class\n",
    "Shreya = semester_reg('Shreya', 23, 1228)\n",
    "Shreya.print_details()"
   ]
  }
 ],
 "metadata": {
  "kernelspec": {
   "display_name": "Python 3 (ipykernel)",
   "language": "python",
   "name": "python3"
  },
  "language_info": {
   "codemirror_mode": {
    "name": "ipython",
    "version": 3
   },
   "file_extension": ".py",
   "mimetype": "text/x-python",
   "name": "python",
   "nbconvert_exporter": "python",
   "pygments_lexer": "ipython3",
   "version": "3.11.7"
  }
 },
 "nbformat": 4,
 "nbformat_minor": 5
}
