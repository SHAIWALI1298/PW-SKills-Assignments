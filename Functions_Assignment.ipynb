{
 "cells": [
  {
   "cell_type": "markdown",
   "id": "38954622-2343-4f0d-ac6e-3a5abb073022",
   "metadata": {},
   "source": [
    "Q1. Which keyword is used to create a function? Create a function to return a list of odd numbers in the range of 1 to 25.\n",
    "ans. 'def' keyword is used to create a function."
   ]
  },
  {
   "cell_type": "code",
   "execution_count": 9,
   "id": "b500b9bb-ba53-4392-a9b3-2d4dc5aed911",
   "metadata": {},
   "outputs": [],
   "source": [
    "def odd_no(n):\n",
    "    lst = []\n",
    "    for i in range(1,n):\n",
    "       \n",
    "        if i%2!=0:\n",
    "            lst.append(i)\n",
    "    return lst"
   ]
  },
  {
   "cell_type": "code",
   "execution_count": 10,
   "id": "20f84213-336f-4e5a-b82e-8ba03e583e01",
   "metadata": {},
   "outputs": [
    {
     "data": {
      "text/plain": [
       "[1, 3, 5, 7, 9, 11, 13, 15, 17, 19, 21, 23]"
      ]
     },
     "execution_count": 10,
     "metadata": {},
     "output_type": "execute_result"
    }
   ],
   "source": [
    "odd_no(25)"
   ]
  },
  {
   "cell_type": "markdown",
   "id": "288de319-a877-415a-9428-124850349e25",
   "metadata": {},
   "source": [
    "Q2. Why *args and **kwargs is used in some functions? Create a function each for *args and **kwargs to demonstrate their use.\n",
    "ans. In order to have multiple arguments in a function, such that *args is used for numbers, string, list, tuples and *kwargs for having argument in the form of key value pair of the dictionary."
   ]
  },
  {
   "cell_type": "code",
   "execution_count": 13,
   "id": "2e02bec7-1f47-496d-b33f-7e682c0c4c22",
   "metadata": {},
   "outputs": [
    {
     "data": {
      "text/plain": [
       "(1, 2, 3, 'Harry', [5, 6, 'Bob'])"
      ]
     },
     "execution_count": 13,
     "metadata": {},
     "output_type": "execute_result"
    }
   ],
   "source": [
    "def multiple_input(*args):\n",
    "     return args\n",
    "\n",
    "# calling the function\n",
    "multiple_input(1,2,3, 'Harry', [5,6,'Bob'])\n"
   ]
  },
  {
   "cell_type": "code",
   "execution_count": 18,
   "id": "6e7f1cb8-6e3f-441b-9fab-c86c99acc6aa",
   "metadata": {},
   "outputs": [
    {
     "data": {
      "text/plain": [
       "{'a': 4, 'b': 'harry', 'c': 78}"
      ]
     },
     "execution_count": 18,
     "metadata": {},
     "output_type": "execute_result"
    }
   ],
   "source": [
    "def dictionary(**kwargs):\n",
    "    return kwargs\n",
    "    \n",
    "# calling the function\n",
    "dictionary(a=4, b='harry', c=78)\n"
   ]
  },
  {
   "cell_type": "markdown",
   "id": "466644ca-c3cd-47de-851f-b30032a2104b",
   "metadata": {},
   "source": [
    "Q3. What is an iterator in python? Name the method used to initialise the iterator object and the method used for iteration. Use these methods to \n",
    "print the first five elements of the given list [2, 4, 6, 8, 10, 12, 14, 16,18, 20].\n",
    "ans. The iterator is the object which contains countable number of values that can be iterated upon using loops and list comprehensions.\n",
    "_iter_() - this function is used to initialize the iterator\n",
    "_next_() - this method is used for iteration of next value after itrator is initialized and stopiteration when it is completed"
   ]
  },
  {
   "cell_type": "code",
   "execution_count": 22,
   "id": "87aea82b-aaac-4a03-a959-8d8a6ed9d8fc",
   "metadata": {},
   "outputs": [
    {
     "name": "stdout",
     "output_type": "stream",
     "text": [
      "2\n",
      "4\n",
      "6\n",
      "8\n",
      "10\n"
     ]
    }
   ],
   "source": [
    "#_iter_() & _next_()\n",
    "\n",
    "mylist = [2, 4, 6, 8, 10, 12, 14, 16,18, 20]\n",
    "f = iter(mylist)\n",
    "\n",
    "print(next(f))\n",
    "print(next(f))\n",
    "print(next(f))\n",
    "print(next(f))\n",
    "print(next(f))\n"
   ]
  },
  {
   "cell_type": "markdown",
   "id": "aea9269c-bda2-4c33-b045-8c00ee1fc15e",
   "metadata": {},
   "source": [
    "Q4. What is a generator function in python? Why yield keyword is used? Give an example of a generator function.\n",
    "ans. The generator function in python provides the series of the values to iterate one by one, such that if yield keyword is used in a normal function it gets converted into generator function. The 'yield' keyword is used to iterates and updates the given iterable based on the given condition."
   ]
  },
  {
   "cell_type": "code",
   "execution_count": 32,
   "id": "65b06ad4-1d04-4697-9b28-1b10ce5ff239",
   "metadata": {},
   "outputs": [
    {
     "name": "stdout",
     "output_type": "stream",
     "text": [
      "1\n",
      "3\n",
      "6\n",
      "9\n"
     ]
    }
   ],
   "source": [
    "# Example \n",
    "def triangular_no(n):\n",
    "    a,b = 1,3\n",
    "    for i in range (1,n):\n",
    "        yield a\n",
    "        a,b = b,b+3\n",
    "\n",
    "# using generator function for making the series\n",
    "for i in triangular_no(5):\n",
    "    print(i)"
   ]
  },
  {
   "cell_type": "code",
   "execution_count": 62,
   "id": "2644fa46-7469-4423-a4b0-d32a61f53754",
   "metadata": {},
   "outputs": [],
   "source": [
    "# Q5. Create a generator function for prime numbers less than 1000. Use the next() method to print the first 20 prime numbers.\n",
    "\n",
    "def prime_no(n):\n",
    "    \n",
    "    for i in range(1,n):\n",
    "        count = 0         \n",
    "        for j in range (1,i):\n",
    "\n",
    "            if i%j==0:\n",
    "                count = count+1\n",
    "                \n",
    "        if count==1:\n",
    "                yield i\n",
    "                          "
   ]
  },
  {
   "cell_type": "code",
   "execution_count": 65,
   "id": "c39ca1e1-11e5-42da-ba86-0293cf732964",
   "metadata": {},
   "outputs": [
    {
     "name": "stdout",
     "output_type": "stream",
     "text": [
      "2\n",
      "3\n",
      "5\n",
      "7\n",
      "11\n",
      "13\n",
      "17\n",
      "19\n",
      "23\n",
      "29\n",
      "31\n",
      "37\n",
      "41\n",
      "43\n",
      "47\n",
      "53\n",
      "59\n",
      "61\n",
      "67\n",
      "71\n"
     ]
    }
   ],
   "source": [
    "x = prime_no(1000)\n",
    "print(next(x))\n",
    "print(next(x))\n",
    "print(next(x))\n",
    "print(next(x))\n",
    "print(next(x))\n",
    "print(next(x))\n",
    "print(next(x))\n",
    "print(next(x))\n",
    "print(next(x))\n",
    "print(next(x))\n",
    "print(next(x))\n",
    "print(next(x))\n",
    "print(next(x))\n",
    "print(next(x))\n",
    "print(next(x))\n",
    "print(next(x))\n",
    "print(next(x))\n",
    "print(next(x))\n",
    "print(next(x))\n",
    "print(next(x))\n"
   ]
  }
 ],
 "metadata": {
  "kernelspec": {
   "display_name": "Python 3 (ipykernel)",
   "language": "python",
   "name": "python3"
  },
  "language_info": {
   "codemirror_mode": {
    "name": "ipython",
    "version": 3
   },
   "file_extension": ".py",
   "mimetype": "text/x-python",
   "name": "python",
   "nbconvert_exporter": "python",
   "pygments_lexer": "ipython3",
   "version": "3.11.7"
  }
 },
 "nbformat": 4,
 "nbformat_minor": 5
}
