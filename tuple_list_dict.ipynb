{
 "cells": [
  {
   "cell_type": "markdown",
   "id": "79358a97-68c0-4d38-9c1b-68aa0396ac3f",
   "metadata": {},
   "source": [
    "Q1. What are the characteristics of the tuples? Is tuple immutable?\n",
    "ans.\n",
    "1. It is used to store different elements under single variable name.\n",
    "2. The tuples are ordered sequence which can be indexed\n",
    "3. They are immutable that means, they add, remove and modify elements\n",
    "4. They contain duplicate items\n",
    "Yes, tuple is immutable because it will store that data which need not to be modified accidently"
   ]
  },
  {
   "cell_type": "markdown",
   "id": "80796924-9d61-4ff2-94dd-666c4c74ffcd",
   "metadata": {},
   "source": [
    "Q2. What are the two tuple methods in python? Give an example of each method. Give a reason why tuples have only two in-built methods as compared to Lists.\n",
    "ans. The two tuple methods in python are -\n",
    "1. Indexing\n",
    "2. Slicing"
   ]
  },
  {
   "cell_type": "code",
   "execution_count": 4,
   "id": "898b4d50-d7fb-4b84-be5e-0e3e91093917",
   "metadata": {},
   "outputs": [
    {
     "name": "stdout",
     "output_type": "stream",
     "text": [
      "3\n",
      "('apple', 2, 3, 2.5)\n"
     ]
    }
   ],
   "source": [
    "# Indexing and  Slicing\n",
    "\n",
    "t1 = ('apple', 2,3, 2.5, 'banana')\n",
    "print(t1[2])\n",
    "print(t1[0:4])"
   ]
  },
  {
   "cell_type": "code",
   "execution_count": 5,
   "id": "14b77741-033d-4189-802a-69eaf3372001",
   "metadata": {},
   "outputs": [
    {
     "data": {
      "text/plain": [
       "5"
      ]
     },
     "execution_count": 5,
     "metadata": {},
     "output_type": "execute_result"
    }
   ],
   "source": [
    "# Length\n",
    "len(t1)"
   ]
  },
  {
   "cell_type": "markdown",
   "id": "1bb3588b-8e94-4f50-ac3c-8034773bd062",
   "metadata": {},
   "source": [
    "Q3. Which collection datatypes in python do not allow duplicate items? Write a code using a set to remove \n",
    "duplicates from the given list\n",
    "List = [1, 1, 1, 2, 1, 3, 1, 4, 2, 1, 2, 2, 2, 3, 2, 4, 3, 1, 3, 2, 3, 3, 3, 4, 4, 1, 4, 2, 4, 3, 4, 4]\n",
    "ans. Set datatype do not allow duplicate items.\n"
   ]
  },
  {
   "cell_type": "code",
   "execution_count": 1,
   "id": "e508271b-4cea-4302-a9b6-5afa39d91120",
   "metadata": {},
   "outputs": [
    {
     "data": {
      "text/plain": [
       "{1, 2, 3, 4}"
      ]
     },
     "execution_count": 1,
     "metadata": {},
     "output_type": "execute_result"
    }
   ],
   "source": [
    "List = [1, 1, 1, 2, 1, 3, 1, 4, 2, 1, 2, 2, 2, 3, 2, 4, 3, 1, 3, 2, 3, 3, 3, 4, 4, 1, 4, 2, 4, 3, 4, 4]\n",
    "set(List)"
   ]
  },
  {
   "cell_type": "markdown",
   "id": "1aef5dd5-71fe-4b3d-a369-e5957f55cc06",
   "metadata": {},
   "source": [
    "Q4. Explain the difference between the union() and update() methods for a set. Give an example of each method.\n",
    "ans. a = a.union(b) is the same operation as a.update(b). The union() method adds the two sets with no duplicates, update is similar in operation, but the only differfence is a.union(b) creates a third set which needs to be assigned somewhere or to be used directly. update function only updates the existing set and cannot be assigned to third set."
   ]
  },
  {
   "cell_type": "code",
   "execution_count": 13,
   "id": "a5727733-67d9-4e63-8a36-2b91bbefd9fc",
   "metadata": {},
   "outputs": [
    {
     "name": "stdout",
     "output_type": "stream",
     "text": [
      "{'violet', 'blue', 'yellow', 'green', 'red'}\n"
     ]
    }
   ],
   "source": [
    "# union()\n",
    "a = {'red', 'green', 'blue'}\n",
    "b = {'yellow', 'violet', 'red'}\n",
    "c = a.union(b)\n",
    "print(c)"
   ]
  },
  {
   "cell_type": "code",
   "execution_count": 14,
   "id": "a0140a32-eaa2-46dc-bd2a-ba40dc870572",
   "metadata": {},
   "outputs": [
    {
     "name": "stdout",
     "output_type": "stream",
     "text": [
      "None\n"
     ]
    }
   ],
   "source": [
    "# update\n",
    "c=a.update(b)\n",
    "print(c)"
   ]
  },
  {
   "cell_type": "code",
   "execution_count": 15,
   "id": "9954699c-2dd3-4e14-b32d-7073d962c48b",
   "metadata": {},
   "outputs": [
    {
     "name": "stdout",
     "output_type": "stream",
     "text": [
      "{'violet', 'blue', 'yellow', 'green', 'red'}\n"
     ]
    }
   ],
   "source": [
    "print(a) # after updating 'a' set"
   ]
  },
  {
   "cell_type": "markdown",
   "id": "4733cac4-a6fa-4f4b-967a-411bac6ea82f",
   "metadata": {},
   "source": [
    "Q5. What is a dictionary? Give an example. Also, state whether a dictionary is ordered or unordered.\n",
    "ans. The data stored in the form of key-value pair enclosed in curly bracket is called dictionary. \n",
    "The key value pair in dictionary is ordered, mutable and do not allow duplicates. The keys function similar as index to call the value in the dictionary."
   ]
  },
  {
   "cell_type": "code",
   "execution_count": null,
   "id": "435a6e91-42e1-4379-864e-76408a8c0c58",
   "metadata": {},
   "outputs": [],
   "source": [
    "# Example of dictionary\n",
    "fruit_cost = {'apple':'$2/kg', 'mango':'$5/kg', 'banana':'$1/kg'}"
   ]
  },
  {
   "cell_type": "markdown",
   "id": "1d3dbb0e-9dcf-4525-8a98-fd634af12dd5",
   "metadata": {},
   "source": [
    "Q6. Can we create a nested dictionary? If so, please give an example by creating a simple one-level \n",
    "nested dictionary\n",
    "ans. yes, we can created a dictionary inside a dictionary.."
   ]
  },
  {
   "cell_type": "code",
   "execution_count": 18,
   "id": "0eb57fa4-d023-492e-a567-5db1be2f1e15",
   "metadata": {},
   "outputs": [
    {
     "name": "stdout",
     "output_type": "stream",
     "text": [
      "{'riya': 24, 'Ponam': 26, 'Rajat': 25, 'age': {'parents': 54, 'brother': 25, 'sister': 24}}\n"
     ]
    }
   ],
   "source": [
    "Nested_dict = {'riya':24, 'Ponam':26, 'Rajat':25, 'age':{'parents':54, 'brother':25, 'sister':24}}\n",
    "print(Nested_dict)"
   ]
  },
  {
   "cell_type": "code",
   "execution_count": 24,
   "id": "3cf4334c-1059-444f-97c6-77da6e21f15c",
   "metadata": {},
   "outputs": [
    {
     "name": "stdout",
     "output_type": "stream",
     "text": [
      "['Python', 'Machine Learning', 'Deep Learning']\n"
     ]
    }
   ],
   "source": [
    "#Q7. Using setdefault() method, create key named topics in the given dictionary and also add the value of\n",
    "# the key as this list ['Python', 'Machine Learning’, 'Deep Learning']\n",
    "\n",
    "dict1 = {'language' : 'Python', 'course': 'Data Science Masters'}\n",
    "topics = ['Python', 'Machine Learning', 'Deep Learning']\n",
    "x = dict1.setdefault('skills', topics)\n",
    "print(x)"
   ]
  },
  {
   "cell_type": "markdown",
   "id": "4fc99630-ec7f-4346-b94c-9721e9c75253",
   "metadata": {},
   "source": [
    "Q8. What are the three view objects in dictionaries? Use the three in-built methods in python to display\n",
    "these three view objects for the given dictionary.\n",
    "ans. keys() = shows all keys of given dictionary as a sequence\n",
    "values() = shows all values of given dictionary as a sequence\n",
    "items() = shows key-value pair as a sequence of the given dictionary\n"
   ]
  },
  {
   "cell_type": "code",
   "execution_count": 25,
   "id": "5bc86fe1-aa1e-4cdc-9998-907d1b9c08e2",
   "metadata": {},
   "outputs": [
    {
     "name": "stdout",
     "output_type": "stream",
     "text": [
      "dict_keys(['Sport', 'Teams'])\n",
      "dict_values(['Cricket', ['India', 'Australia', 'England', 'South Africa', 'Sri Lanka', 'New Zealand']])\n",
      "dict_items([('Sport', 'Cricket'), ('Teams', ['India', 'Australia', 'England', 'South Africa', 'Sri Lanka', 'New Zealand'])])\n"
     ]
    }
   ],
   "source": [
    "# Example\n",
    "dict1 = {'Sport': 'Cricket' , 'Teams': ['India', 'Australia', 'England', 'South Africa','Sri Lanka', 'New Zealand']}\n",
    "print(dict1.keys())\n",
    "print(dict1.values())\n",
    "print(dict1.items())"
   ]
  }
 ],
 "metadata": {
  "kernelspec": {
   "display_name": "Python 3 (ipykernel)",
   "language": "python",
   "name": "python3"
  },
  "language_info": {
   "codemirror_mode": {
    "name": "ipython",
    "version": 3
   },
   "file_extension": ".py",
   "mimetype": "text/x-python",
   "name": "python",
   "nbconvert_exporter": "python",
   "pygments_lexer": "ipython3",
   "version": "3.11.7"
  }
 },
 "nbformat": 4,
 "nbformat_minor": 5
}
