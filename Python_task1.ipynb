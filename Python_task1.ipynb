{
 "cells": [
  {
   "cell_type": "code",
   "execution_count": 78,
   "id": "e8b67218-cfb5-44ed-a6e4-d86ef3294371",
   "metadata": {},
   "outputs": [],
   "source": [
    "# Q1. Create a function which will take a list as an argument and return the product of all the numbers after creating a flat list.\n",
    "# Use the below-given list as an argument for your function.\n",
    "\n",
    "list1 = [1,2,3,4, [44,55,66, True], False, (34,56,78,89,34), {1,2,3,3,2,1}, {1:34, \"key2\": [55, 67, 78, 89], 4: (45,\n",
    "22, 61, 34)}, [56, 'data science'], 'Machine Learning']\n",
    "\n",
    "def product_of_List(l):\n",
    "    p=1\n",
    "    def list_of_numbers(l):\n",
    "        lst =[]\n",
    "        for i in l:\n",
    "            if type(i)==int or type(i)==float:\n",
    "                lst.append(i)\n",
    "            elif type(i)==list or type(i)==tuple or type(i)==set:\n",
    "                lst.extend(list_of_numbers(i))\n",
    "            elif type(i)==dict:\n",
    "                lst.extend(list_of_numbers(list(i.keys())))\n",
    "                lst.extend(list_of_numbers(list(i.values())))\n",
    "        return lst\n",
    "    for i in list_of_numbers(l):\n",
    "        p=p*i\n",
    "    return p,list_of_numbers(l)"
   ]
  },
  {
   "cell_type": "code",
   "execution_count": 79,
   "id": "b0a97c0d-e9bd-4370-95fa-60d9f332536e",
   "metadata": {},
   "outputs": [
    {
     "data": {
      "text/plain": [
       "(4134711838987085478833841242112000,\n",
       " [1,\n",
       "  2,\n",
       "  3,\n",
       "  4,\n",
       "  44,\n",
       "  55,\n",
       "  66,\n",
       "  34,\n",
       "  56,\n",
       "  78,\n",
       "  89,\n",
       "  34,\n",
       "  1,\n",
       "  2,\n",
       "  3,\n",
       "  1,\n",
       "  4,\n",
       "  34,\n",
       "  55,\n",
       "  67,\n",
       "  78,\n",
       "  89,\n",
       "  45,\n",
       "  22,\n",
       "  61,\n",
       "  34,\n",
       "  56])"
      ]
     },
     "execution_count": 79,
     "metadata": {},
     "output_type": "execute_result"
    }
   ],
   "source": [
    "# product of nuymbers in list with flat list\n",
    "product_of_List(list1)"
   ]
  },
  {
   "cell_type": "code",
   "execution_count": 116,
   "id": "f9830641-cab5-45d5-a176-744200ec459a",
   "metadata": {},
   "outputs": [],
   "source": [
    "# Q2. Write a python program for encrypting a message sent to you by your friend. The logic of encryption should be such that, for a the output should \n",
    "# be z.For b, the output should be y.For c, the output should be x respectively.Also, the whitespace should be replaced with a dollar sign. Keep\n",
    "# the punctuation marks unchanged.\n",
    "\n",
    "alpha = [' ','a','b','c','d','e','f','g','h','i','j','k','l','m','n','o','p','q','r','s','t','u','v','w','x','y','z','$']\n",
    "e_dict = {}\n",
    "sp_character = ['!','#','$','%','&','()','*','+',',','-','.','/',':',';','<','=','>','?']\n",
    "for n in range(0,len(alpha)):\n",
    "    e_dict[alpha[n]]=alpha[-n-1]\n",
    "def encrypt_msg(msg):\n",
    "    import string\n",
    "    new_msg = ''\n",
    "    for i in msg:\n",
    "        if i.isupper()==True:\n",
    "            new_msg = new_msg + e_dict[i.lower()]\n",
    "        elif i in string.punctuation:\n",
    "            new_msg = new_msg + i\n",
    "        else:            \n",
    "            new_msg = new_msg + e_dict[i]            \n",
    "            \n",
    "    return new_msg"
   ]
  },
  {
   "cell_type": "code",
   "execution_count": 117,
   "id": "b5dcd7e8-d666-465f-972e-921d10900086",
   "metadata": {},
   "outputs": [
    {
     "data": {
      "text/plain": [
       "'r$dzmg$gl$yvxlnv$z$wzgz$hxrvmgrhg.'"
      ]
     },
     "execution_count": 117,
     "metadata": {},
     "output_type": "execute_result"
    }
   ],
   "source": [
    "msg = 'I want to become a Data Scientist.'\n",
    "encrypt_msg(msg)"
   ]
  }
 ],
 "metadata": {
  "kernelspec": {
   "display_name": "Python 3 (ipykernel)",
   "language": "python",
   "name": "python3"
  },
  "language_info": {
   "codemirror_mode": {
    "name": "ipython",
    "version": 3
   },
   "file_extension": ".py",
   "mimetype": "text/x-python",
   "name": "python",
   "nbconvert_exporter": "python",
   "pygments_lexer": "ipython3",
   "version": "3.11.7"
  }
 },
 "nbformat": 4,
 "nbformat_minor": 5
}
